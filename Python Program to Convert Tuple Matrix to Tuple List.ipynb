{
 "cells": [
  {
   "cell_type": "code",
   "execution_count": 21,
   "id": "b5afcd47",
   "metadata": {},
   "outputs": [
    {
     "name": "stdout",
     "output_type": "stream",
     "text": [
      "The original list is : [[(4, 5), (7, 8)], [(10, 13), (18, 17)], [(0, 4), (10, 1)]]\n",
      "The converted tuple list : [(4, 7, 10, 18, 0, 10), (5, 8, 13, 17, 4, 1)]\n"
     ]
    }
   ],
   "source": [
    "# initializing list\n",
    "test_list = [[(4, 5), (7, 8)], [(10, 13), (18, 17)], [(0, 4), (10, 1)]]\n",
    " \n",
    "# printing original list\n",
    "print(\"The original list is : \" + str(test_list))\n",
    " \n",
    "# flattening \n",
    "temp = [ele for sub in test_list for ele in sub]\n",
    " \n",
    "# joining to form column pairs\n",
    "res = list(zip(*temp))\n",
    " \n",
    "# printing result \n",
    "print(\"The converted tuple list : \" + str(res))\n"
   ]
  },
  {
   "cell_type": "code",
   "execution_count": 22,
   "id": "f7544a00",
   "metadata": {},
   "outputs": [
    {
     "name": "stdout",
     "output_type": "stream",
     "text": [
      "The original list is : [[(4, 5), (7, 8)], [(10, 13), (18, 17)], [(0, 4), (10, 1)]]\n",
      "The converted tuple list : [(4, 7, 10, 18, 0, 10), (5, 8, 13, 17, 4, 1)]\n"
     ]
    }
   ],
   "source": [
    "# initializing list\n",
    "test_list = [[(4, 5), (7, 8)], [(10, 13), (18, 17)], [(0, 4), (10, 1)]]\n",
    " \n",
    "# printing original list\n",
    "print(\"The original list is : \" + str(test_list))\n",
    " \n",
    "x=[]\n",
    "for i in test_list:\n",
    "    for j in i:\n",
    "        j=list(j)\n",
    "        x.extend(j)\n",
    "re1=[]\n",
    "re2=[]\n",
    "for i in range(0,len(x)):\n",
    "    if(i%2==0):\n",
    "        re1.append(x[i])\n",
    "    else:\n",
    "        re2.append(x[i])\n",
    "res=[]\n",
    "res.append(tuple(re1))\n",
    "res.append(tuple(re2))\n",
    " \n",
    "# printing result\n",
    "print(\"The converted tuple list : \" + str(res))\n"
   ]
  },
  {
   "cell_type": "code",
   "execution_count": 23,
   "id": "58d32fe7",
   "metadata": {},
   "outputs": [
    {
     "name": "stdout",
     "output_type": "stream",
     "text": [
      "([1, 2, 3], [4, 5, 6], [7, 8, 9])\n"
     ]
    }
   ],
   "source": [
    "matrix = ((1, 2, 3), (4, 5, 6), (7, 8, 9))\n",
    " \n",
    "list_tuple = tuple(map(lambda x: list(x), matrix))\n",
    " \n",
    "print(list_tuple)  "
   ]
  },
  {
   "cell_type": "code",
   "execution_count": 24,
   "id": "98decdc0",
   "metadata": {},
   "outputs": [
    {
     "name": "stdout",
     "output_type": "stream",
     "text": [
      "The converted tuple list: ((4, 7, 10, 18, 0, 10), (5, 8, 13, 17, 4, 1))\n"
     ]
    }
   ],
   "source": [
    "import numpy as np\n",
    " \n",
    "# Initialize the list\n",
    "test_list = [[(4, 5), (7, 8)], [(10, 13), (18, 17)], [(0, 4), (10, 1)]]\n",
    " \n",
    "# Flatten the list and convert it to a numpy array\n",
    "array = np.array([col for sublist in test_list for col in sublist], np.int64)\n",
    " \n",
    "# Transpose the array and convert it to a tuple\n",
    "result = tuple(map(tuple, array.T))\n",
    " \n",
    "# Print the result\n",
    "print(\"The converted tuple list:\", result)"
   ]
  },
  {
   "cell_type": "code",
   "execution_count": 25,
   "id": "818e4033",
   "metadata": {},
   "outputs": [
    {
     "name": "stdout",
     "output_type": "stream",
     "text": [
      "The original list is : [[(4, 5), (7, 8)], [(10, 13), (18, 17)], [(0, 4), (10, 1)]]\n",
      "The converted tuple list : [(4, 7, 10, 18, 0, 10), (5, 8, 13, 17, 4, 1)]\n"
     ]
    }
   ],
   "source": [
    "def flatten(lst):\n",
    "    if isinstance(lst, list):\n",
    "        return [ele for sub in lst for ele in flatten(sub)]\n",
    "    else:\n",
    "        return [lst]\n",
    " # initializing list\n",
    "test_list = [[(4, 5), (7, 8)], [(10, 13), (18, 17)], [(0, 4), (10, 1)]]\n",
    " \n",
    "# printing original list\n",
    "print(\"The original list is : \" + str(test_list))\n",
    " \n",
    "# flattening and converting to tuple list\n",
    "temp = flatten(test_list)\n",
    "res = list(zip(*temp))\n",
    " \n",
    "# printing result \n",
    "print(\"The converted tuple list : \" + str(res))"
   ]
  },
  {
   "cell_type": "code",
   "execution_count": null,
   "id": "2d0821c5",
   "metadata": {},
   "outputs": [],
   "source": []
  }
 ],
 "metadata": {
  "kernelspec": {
   "display_name": "Python 3 (ipykernel)",
   "language": "python",
   "name": "python3"
  },
  "language_info": {
   "codemirror_mode": {
    "name": "ipython",
    "version": 3
   },
   "file_extension": ".py",
   "mimetype": "text/x-python",
   "name": "python",
   "nbconvert_exporter": "python",
   "pygments_lexer": "ipython3",
   "version": "3.9.13"
  }
 },
 "nbformat": 4,
 "nbformat_minor": 5
}
